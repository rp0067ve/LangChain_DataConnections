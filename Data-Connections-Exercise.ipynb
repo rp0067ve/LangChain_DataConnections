{
 "cells": [
  {
   "cell_type": "markdown",
   "id": "bcded1a6-2430-4707-a78c-c82f4c5ee6fc",
   "metadata": {},
   "source": [
    "<a href = \"https://www.pieriantraining.com\"><img src=\"../PT Centered Purple.png\"> </a>\n",
    "\n",
    "<em style=\"text-align:center\">Copyrighted by Pierian Training</em>"
   ]
  },
  {
   "cell_type": "markdown",
   "id": "728f1747-b8fc-4d31-96c2-047fc83c079d",
   "metadata": {},
   "source": [
    "#  Data Connections Exercise\n",
    "\n",
    "## Ask a Legal Research Assistant Bot about the US Constitution\n",
    "\n",
    "Your function should do the following:\n",
    "\n",
    "* Read the US_Constitution.txt file inside the some_data folder\n",
    "* Split this into chunks (you choose the size)\n",
    "* Write this to a ChromaDB Vector Store\n",
    "* Use Context Compression to return the relevant portion of the document to the question"
   ]
  },
  {
   "cell_type": "code",
   "execution_count": 1,
   "id": "3a17f111-e290-4ffc-b614-4d10e5673087",
   "metadata": {},
   "outputs": [],
   "source": [
    "# Build a sample vectorDB\n",
    "from langchain.vectorstores import Chroma\n",
    "from langchain.chat_models import ChatOpenAI\n",
    "from langchain.document_loaders import TextLoader\n",
    "from langchain.embeddings.openai import OpenAIEmbeddings\n",
    "from langchain.text_splitter import CharacterTextSplitter\n",
    "from langchain.retrievers import ContextualCompressionRetriever\n",
    "from langchain.retrievers.document_compressors import LLMChainExtractor \n"
   ]
  },
  {
   "cell_type": "code",
   "execution_count": 2,
   "id": "6957a463-821d-4223-a4ff-637e99cc5807",
   "metadata": {},
   "outputs": [],
   "source": [
    "import os\n",
    "f = open('/Users/koichirosuzuki/Desktop/desktop_openai.txt')\n",
    "os.environ['OPENAI_API_KEY'] = 'yourapikey'\n",
    "api_key = f.read()"
   ]
  },
  {
   "cell_type": "code",
   "execution_count": 3,
   "id": "9be375a3",
   "metadata": {},
   "outputs": [],
   "source": [
    "def us_constitution_helper(question):\n",
    "    '''\n",
    "    Takes in a question about the US Constitution and returns the most relevant\n",
    "    part of the constitution. Notice it may not directly answer the actual question!\n",
    "    \n",
    "    Follow the steps below to fill out this function:\n",
    "    '''\n",
    "    # PART ONE:\n",
    "    # LOAD \"some_data/US_Constitution in a Document object\n",
    "    loader = TextLoader(\"some_data/US_Constitution.txt\")\n",
    "    documents = loader.load()\n",
    "    \n",
    "    # PART TWO\n",
    "    # Split the document into chunks (you choose how and what size)\n",
    "    text_splitter = CharacterTextSplitter.from_tiktoken_encoder(chunk_size=500)\n",
    "    docs = text_splitter.split_documents(documents)\n",
    "    \n",
    "    # PART THREE\n",
    "    # EMBED THE Documents (now in chunks) to a persisted ChromaDB\n",
    "    embedding_function = OpenAIEmbeddings()\n",
    "    embedding_function = OpenAIEmbeddings()\n",
    "    db = Chroma.from_documents(docs, embedding_function,persist_directory='./US_Constitution')\n",
    "    db.persist()\n",
    "\n",
    "    # PART FOUR\n",
    "    # Use ChatOpenAI and ContextualCompressionRetriever to return the most\n",
    "    # relevant part of the documents.\n",
    "\n",
    "    # results = db.similarity_search(\"What is the 13th Amendment?\")\n",
    "    # print(results[0].page_content) # NEED TO COMPRESS THESE RESULTS!\n",
    "    llm = ChatOpenAI(temperature=0)\n",
    "    compressor = LLMChainExtractor.from_llm(llm)\n",
    "\n",
    "    compression_retriever = ContextualCompressionRetriever(base_compressor=compressor, \n",
    "                                                           base_retriever=db.as_retriever())\n",
    "\n",
    "    compressed_docs = compression_retriever.get_relevant_documents(question)\n",
    "\n",
    "    return compressed_docs[0].page_content"
   ]
  },
  {
   "cell_type": "code",
   "execution_count": null,
   "id": "768f2da8",
   "metadata": {},
   "outputs": [],
   "source": []
  },
  {
   "cell_type": "markdown",
   "id": "e36c9e44-c166-4724-a1a9-98dfde0721d7",
   "metadata": {},
   "source": [
    "## Example Usage:\n",
    "\n",
    "Notice how it doesn't return an entire Document of a large chunk size, but instead the \"compressed\" version!"
   ]
  },
  {
   "cell_type": "code",
   "execution_count": 7,
   "id": "b6ca1a37-bc2f-49de-af25-22bc7437bff0",
   "metadata": {},
   "outputs": [
    {
     "name": "stderr",
     "output_type": "stream",
     "text": [
      "/Users/koichirosuzuki/.pyenv/versions/3.11.0/lib/python3.11/site-packages/langchain/chains/llm.py:316: UserWarning: The predict_and_parse method is deprecated, instead pass an output parser directly to LLMChain.\n",
      "  warnings.warn(\n",
      "/Users/koichirosuzuki/.pyenv/versions/3.11.0/lib/python3.11/site-packages/langchain/chains/llm.py:316: UserWarning: The predict_and_parse method is deprecated, instead pass an output parser directly to LLMChain.\n",
      "  warnings.warn(\n",
      "/Users/koichirosuzuki/.pyenv/versions/3.11.0/lib/python3.11/site-packages/langchain/chains/llm.py:316: UserWarning: The predict_and_parse method is deprecated, instead pass an output parser directly to LLMChain.\n",
      "  warnings.warn(\n",
      "/Users/koichirosuzuki/.pyenv/versions/3.11.0/lib/python3.11/site-packages/langchain/chains/llm.py:316: UserWarning: The predict_and_parse method is deprecated, instead pass an output parser directly to LLMChain.\n",
      "  warnings.warn(\n"
     ]
    },
    {
     "name": "stdout",
     "output_type": "stream",
     "text": [
      "The powers not delegated to the United States by the Constitution, nor prohibited by it to the States, are reserved to the States respectively, or to the people.\n"
     ]
    }
   ],
   "source": [
    "print(us_constitution_helper(\"What is the 10th Amendment?\"))"
   ]
  },
  {
   "cell_type": "code",
   "execution_count": null,
   "id": "225643e3-32ca-4cfe-ac96-e79c799c9cf5",
   "metadata": {},
   "outputs": [],
   "source": []
  }
 ],
 "metadata": {
  "kernelspec": {
   "display_name": "Python 3 (ipykernel)",
   "language": "python",
   "name": "python3"
  },
  "language_info": {
   "codemirror_mode": {
    "name": "ipython",
    "version": 3
   },
   "file_extension": ".py",
   "mimetype": "text/x-python",
   "name": "python",
   "nbconvert_exporter": "python",
   "pygments_lexer": "ipython3",
   "version": "3.11.0"
  }
 },
 "nbformat": 4,
 "nbformat_minor": 5
}
